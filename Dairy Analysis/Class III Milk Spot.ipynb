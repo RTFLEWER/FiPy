{
 "cells": [
  {
   "cell_type": "code",
   "execution_count": 14,
   "id": "f17fd1ff",
   "metadata": {},
   "outputs": [
    {
     "name": "stdout",
     "output_type": "stream",
     "text": [
      "NFDM  1.1163  Butter  3.0244  Cheese  1.955  Whey  0.4031\n",
      "Step 1 - Other Solids Price: 0.2101\n",
      "Step 2 - Butterfat Price: 3.4549\n",
      "Step 3 - Protein Price: 2.0161\n",
      "Step 5 - Class III Skim Milk Price: 7.4896\n",
      "Step 6 - Class III Price: 19.3195\n",
      "\n",
      "Final Calculations:\n",
      "Butterfat Price: 3.4549\n",
      "Protein Price: 2.0161\n",
      "Other Solids Price: 0.2101\n",
      "Class III Skim Milk Price: 7.4896\n",
      "Class III Price: 19.3195\n"
     ]
    }
   ],
   "source": [
    "import json\n",
    "\n",
    "# Load the JSON data\n",
    "with open('futures_data.json', 'r') as file:\n",
    "    data = json.load(file)\n",
    "\n",
    "# Extract spot prices from CME\n",
    "spot_prices = data['spot_prices']['CME']\n",
    "NFDM_price = spot_prices['NDFM']\n",
    "butter_price = spot_prices['Butter']\n",
    "cheese_price = spot_prices['Cheese']\n",
    "whey_price = spot_prices['Whey']\n",
    "print(\"NFDM \", NFDM_price, \" Butter \", butter_price, \" Cheese \", cheese_price, \" Whey \", whey_price)\n",
    "\n",
    "# Step 1: Calculate Other Solids Price\n",
    "other_solids_price = (whey_price - 0.1991) * 1.03\n",
    "print(f\"Step 1 - Other Solids Price: {other_solids_price:.4f}\")\n",
    "\n",
    "# Step 2: Calculate Butterfat Price\n",
    "butterfat_price = (butter_price - 0.1715) * 1.211\n",
    "print(f\"Step 2 - Butterfat Price: {butterfat_price:.4f}\")\n",
    "\n",
    "# Step 3: Calculate Protein Price\n",
    "protein_price = ((cheese_price - 0.2003) * 1.383) + ((((cheese_price - 0.2003) * 1.572) - (butterfat_price * 0.9)) * 1.17)\n",
    "print(f\"Step 3 - Protein Price: {protein_price:.4f}\")\n",
    "\n",
    "# Step 4: Calculate the Class III Skim Milk Price\n",
    "class_iii_skim_milk_price = (protein_price * 3.1) + (other_solids_price * 5.9)\n",
    "print(f\"Step 4 - Class III Skim Milk Price: {class_iii_skim_milk_price:.4f}\")\n",
    "\n",
    "# Step 6: Calculate the Class III Price\n",
    "class_iii_price = (class_iii_skim_milk_price * 0.965) + (butterfat_price * 3.5)\n",
    "print(f\"Step 5 - Class III Price: {class_iii_price:.4f}\")\n",
    "\n",
    "# Output the results\n",
    "print(f\"\\nFinal Calculations:\")\n",
    "print(f\"Butterfat Price: {butterfat_price:.4f}\")\n",
    "print(f\"Protein Price: {protein_price:.4f}\")\n",
    "print(f\"Other Solids Price: {other_solids_price:.4f}\")\n",
    "print(f\"Class III Skim Milk Price: {class_iii_skim_milk_price:.4f}\")\n",
    "print(f\"Class III Price: {class_iii_price:.4f}\")\n"
   ]
  },
  {
   "cell_type": "code",
   "execution_count": null,
   "id": "6a811b50",
   "metadata": {},
   "outputs": [],
   "source": []
  }
 ],
 "metadata": {
  "kernelspec": {
   "display_name": "Python 3 (ipykernel)",
   "language": "python",
   "name": "python3"
  },
  "language_info": {
   "codemirror_mode": {
    "name": "ipython",
    "version": 3
   },
   "file_extension": ".py",
   "mimetype": "text/x-python",
   "name": "python",
   "nbconvert_exporter": "python",
   "pygments_lexer": "ipython3",
   "version": "3.11.7"
  }
 },
 "nbformat": 4,
 "nbformat_minor": 5
}
